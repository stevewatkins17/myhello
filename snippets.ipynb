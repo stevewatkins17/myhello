{
  "nbformat": 4,
  "nbformat_minor": 0,
  "metadata": {
    "colab": {
      "provenance": [],
      "authorship_tag": "ABX9TyONaBr1LryVgOp97OeOkyF1",
      "include_colab_link": true
    },
    "kernelspec": {
      "name": "python3",
      "display_name": "Python 3"
    },
    "language_info": {
      "name": "python"
    }
  },
  "cells": [
    {
      "cell_type": "markdown",
      "metadata": {
        "id": "view-in-github",
        "colab_type": "text"
      },
      "source": [
        "<a href=\"https://colab.research.google.com/github/stevewatkins17/myhello/blob/main/snippets.ipynb\" target=\"_parent\"><img src=\"https://colab.research.google.com/assets/colab-badge.svg\" alt=\"Open In Colab\"/></a>"
      ]
    },
    {
      "cell_type": "code",
      "execution_count": 4,
      "metadata": {
        "colab": {
          "base_uri": "https://localhost:8080/"
        },
        "id": "tFsk9pweeuTI",
        "outputId": "d87c3181-291a-4fe9-8bc8-53e6dfaa68e9"
      },
      "outputs": [
        {
          "output_type": "stream",
          "name": "stdout",
          "text": [
            "[4, 6]\n",
            "[0, 2, 4]\n",
            "[6, 8, 10]\n",
            "[0, 2, 4, 6, 8, 10]\n",
            "lo Wo\n"
          ]
        }
      ],
      "source": [
        "even_numbers = [0, 2, 4, 6, 8, 10]\n",
        "print(even_numbers[2:4])\n",
        "print(even_numbers[:3])\n",
        "print(even_numbers[3:])\n",
        "print(even_numbers[:])\n",
        "\n",
        "greeting = \"Hello World!\"\n",
        "print(greeting[3:8])"
      ]
    }
  ]
}