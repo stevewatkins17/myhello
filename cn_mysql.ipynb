{
 "cells": [
  {
   "cell_type": "code",
   "execution_count": null,
   "metadata": {},
   "outputs": [],
   "source": [
    "import mysql.connector\n",
    "\n",
    "host = 'localhost'  # Replace with IP address 127.0.0.1\n",
    "#host = '127.0.0.1' \n",
    "port = 3306\n",
    "user = 'SW'\n",
    "password = 'MyPassword01'\n",
    "database = 'MyTestDB'  # Replace with the name of your database\n",
    "\n",
    "def get_mysql_cn(host ,port ,user ,password ,database):\n",
    "    \"\"\"returns MySQL cn\"\"\"\n",
    "    # Establish a connection\n",
    "    cn = mysql.connector.connect(\n",
    "        host=host,\n",
    "        port=port,\n",
    "        user=user,\n",
    "        password=password,\n",
    "        database=database\n",
    "    )\n",
    "    return cn\n",
    "\n"
   ]
  },
  {
   "cell_type": "code",
   "execution_count": null,
   "metadata": {},
   "outputs": [],
   "source": [
    "cn = get_mysql_cn(host ,port ,user ,password ,database)\n",
    "\n",
    "try:\n",
    "    # Create a cursor\n",
    "    cursor = cn.cursor()\n",
    "\n",
    "    # Example query\n",
    "    query = 'SELECT * FROM customers;'\n",
    "    cursor.execute(query)\n",
    "\n",
    "    # Fetch and print the results\n",
    "    results = cursor.fetchall()\n",
    "    for row in results:\n",
    "        print(row)\n",
    "\n",
    "finally:\n",
    "    # Close the cursor and connection\n",
    "    cursor.close()\n",
    "    cn.close()\n"
   ]
  },
  {
   "cell_type": "code",
   "execution_count": null,
   "metadata": {},
   "outputs": [],
   "source": [
    "import pandas as pd\n",
    "\n",
    "cn = get_mysql_cn(host ,port ,user ,password ,database)\n",
    "\n",
    "# Read data into a Pandas DataFrame\n",
    "df = pd.read_sql(query, cn)\n",
    "\n",
    "# Close the MySQL connection\n",
    "cn.close()\n",
    "\n",
    "# Display the DataFrame\n",
    "print(df)\n"
   ]
  },
  {
   "cell_type": "code",
   "execution_count": null,
   "metadata": {},
   "outputs": [],
   "source": [
    "cn = get_mysql_cn(host ,port ,user ,password ,database)\n",
    "\n",
    "# Create a cursor\n",
    "cursor = cn.cursor()\n",
    "\n",
    "try:\n",
    "    # Execute the SELECT query\n",
    "    query = 'SELECT * FROM customers;'\n",
    "    cursor.execute(query)\n",
    "\n",
    "    # Fetch all rows\n",
    "    rows = cursor.fetchall()\n",
    "\n",
    "    # Get column names from cursor description\n",
    "    columns = [desc[0] for desc in cursor.description]\n",
    "\n",
    "    # Create a pandas DataFrame\n",
    "    df = pd.DataFrame(rows, columns=columns)\n",
    "\n",
    "finally:\n",
    "    # Close the cursor and connection\n",
    "    cursor.close()\n",
    "    cn.close()\n",
    "\n",
    "    # Display the DataFrame\n",
    "    print(df)\n"
   ]
  }
 ],
 "metadata": {
  "kernelspec": {
   "display_name": "CodeYou",
   "language": "python",
   "name": "python3"
  },
  "language_info": {
   "codemirror_mode": {
    "name": "ipython",
    "version": 3
   },
   "file_extension": ".py",
   "mimetype": "text/x-python",
   "name": "python",
   "nbconvert_exporter": "python",
   "pygments_lexer": "ipython3",
   "version": "3.11.6"
  }
 },
 "nbformat": 4,
 "nbformat_minor": 2
}
