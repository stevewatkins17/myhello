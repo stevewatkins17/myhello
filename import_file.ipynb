{
 "cells": [
  {
   "cell_type": "markdown",
   "metadata": {},
   "source": [
    "## read file into list \"data\""
   ]
  },
  {
   "cell_type": "code",
   "execution_count": null,
   "metadata": {},
   "outputs": [],
   "source": [
    "myfile = \"fruit.txt\"\n",
    "\n",
    "with open(myfile, \"r\") as f:\n",
    "    data = f.readlines()\n",
    "\n"
   ]
  },
  {
   "cell_type": "markdown",
   "metadata": {},
   "source": [
    "## print each item and its index"
   ]
  },
  {
   "cell_type": "code",
   "execution_count": null,
   "metadata": {},
   "outputs": [],
   "source": [
    "for line in data:\n",
    "    print(f\"{data.index(line)} \" + line) "
   ]
  },
  {
   "cell_type": "markdown",
   "metadata": {},
   "source": [
    "## insert the \"data\" list to SQL database table \"fruit\"\n",
    "for no other reason than to show that we can"
   ]
  },
  {
   "cell_type": "code",
   "execution_count": null,
   "metadata": {
    "vscode": {
     "languageId": "sql"
    }
   },
   "outputs": [],
   "source": [
    "# Assuming `data` is a list of strings\n",
    "import sqlite3\n",
    "\n",
    "# Create an in-memory database\n",
    "conn = sqlite3.connect(':memory:')\n",
    "c = conn.cursor()\n",
    "\n",
    "# Create a table and insert data\n",
    "c.execute('CREATE TABLE fruit (id INTEGER PRIMARY KEY, name TEXT)')\n",
    "for line in data:\n",
    "    c.execute('INSERT INTO fruit (name) VALUES (?)', (line.strip(),))\n",
    "\n",
    "# Select all lines from the table\n",
    "c.execute('SELECT * FROM fruit')\n",
    "result = c.fetchall()\n",
    "\n",
    "# Print the result\n",
    "for row in result:\n",
    "    print(row)\n"
   ]
  }
 ],
 "metadata": {
  "kernelspec": {
   "display_name": "CodeYou",
   "language": "python",
   "name": "python3"
  },
  "language_info": {
   "codemirror_mode": {
    "name": "ipython",
    "version": 3
   },
   "file_extension": ".py",
   "mimetype": "text/x-python",
   "name": "python",
   "nbconvert_exporter": "python",
   "pygments_lexer": "ipython3",
   "version": "3.11.6"
  }
 },
 "nbformat": 4,
 "nbformat_minor": 2
}
