{
  "nbformat": 4,
  "nbformat_minor": 0,
  "metadata": {
    "colab": {
      "provenance": [],
      "authorship_tag": "ABX9TyNVaN87Zqxr6kjKtPRZIJMl",
      "include_colab_link": true
    },
    "kernelspec": {
      "name": "python3",
      "display_name": "Python 3"
    },
    "language_info": {
      "name": "python"
    }
  },
  "cells": [
    {
      "cell_type": "markdown",
      "metadata": {
        "id": "view-in-github",
        "colab_type": "text"
      },
      "source": [
        "<a href=\"https://colab.research.google.com/github/stevewatkins17/myhello/blob/main/snippets.ipynb\" target=\"_parent\"><img src=\"https://colab.research.google.com/assets/colab-badge.svg\" alt=\"Open In Colab\"/></a>"
      ]
    },
    {
      "cell_type": "code",
      "execution_count": 5,
      "metadata": {
        "colab": {
          "base_uri": "https://localhost:8080/"
        },
        "id": "tFsk9pweeuTI",
        "outputId": "70c1de84-4940-4279-e780-76720305416f"
      },
      "outputs": [
        {
          "output_type": "stream",
          "name": "stdout",
          "text": [
            "[4, 6]\n",
            "[0, 2, 4]\n",
            "[6, 8, 10]\n",
            "[0, 2, 4, 6, 8, 10]\n",
            "lo W\n"
          ]
        }
      ],
      "source": [
        "even_numbers = [0, 2, 4, 6, 8, 10]\n",
        "print(even_numbers[2:4])\n",
        "print(even_numbers[:3])\n",
        "print(even_numbers[3:])\n",
        "print(even_numbers[:])\n",
        "\n",
        "greeting = \"Hello World!\"\n",
        "print(greeting[3:7])"
      ]
    }
  ]
}