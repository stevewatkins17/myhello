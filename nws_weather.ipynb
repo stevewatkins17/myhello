{
 "cells": [
  {
   "cell_type": "code",
   "execution_count": null,
   "metadata": {},
   "outputs": [],
   "source": [
    "import requests\n",
    "import json\n",
    "\n",
    "def get_response(url):\n",
    "    response = requests.get(url)\n",
    "    return response\n",
    "\n",
    "# user input\n",
    "latlong = \"38.0851,-85.7671\"\n"
   ]
  },
  {
   "cell_type": "code",
   "execution_count": null,
   "metadata": {},
   "outputs": [],
   "source": [
    "# Experimenting with observations and points\n",
    "\n",
    "#url = \"https://api.weather.gov/stations/KLMK/observations\"\n",
    "url = \"https://api.weather.gov/stations/KGJT/observations/latest?require_qc=true\"\n",
    "#url = \"https://api.weather.gov/stations/KLMK/observations/latest?require_qc=true\"\n",
    "#url = \"https://api.weather.gov/stations/KGJT/observations?start=2024-02-06T12%3A00%3A00-04%3A00&end=2024-02-06T18%3A00%3A00-04%3A00\"\n",
    "#url = \"https://api.weather.gov/points/38.0851,-85.7671\"\n",
    "#url = \"https://api.weather.gov/gridpoints/LMK/50,70/forecast/hourly\"\n",
    "# Send GET request to the API endpoint\n",
    "response = requests.get(url)\n",
    "\n",
    "# Check if the request was successful (status code 200)\n",
    "if response.status_code == 200:\n",
    "    # Parse the JSON response\n",
    "    MyObservation = response.json()\n",
    "    print(\"Data successfully fetched and stored in MyObservation variable.\")\n",
    "    print(response.text)\n",
    "else:\n",
    "    print(f\"Failed to fetch data. Status code: {response.status_code}\")\n",
    "    "
   ]
  },
  {
   "cell_type": "code",
   "execution_count": null,
   "metadata": {},
   "outputs": [],
   "source": [
    "url_points = f\"https://api.weather.gov/points/{latlong}\"\n",
    "response_points = get_response(url_points)\n",
    "\n",
    "# Check if the request was successful (status code 200)\n",
    "if response_points.status_code == 200:\n",
    "    MyForecast = response_points.json()\n",
    "    url_forecasthourly = (MyForecast[\"properties\"][\"forecastHourly\"])\n",
    "    forecasthourly = get_response(url_forecasthourly)\n",
    "    #print(dir(response_points))\n",
    "    #print(response_points.text)\n",
    "    if forecasthourly.status_code == 200:\n",
    "        print(forecasthourly.text)\n",
    "        print(\"\\n\")\n",
    "    else:\n",
    "        print(f\"Failed to fetch forecasthourly data. Status code: {forecasthourly.status_code}\")\n",
    "else:\n",
    "    print(f\"Failed to fetch points data. Status code: {response_points.status_code}\")\n"
   ]
  }
 ],
 "metadata": {
  "kernelspec": {
   "display_name": "CodeYou",
   "language": "python",
   "name": "python3"
  },
  "language_info": {
   "codemirror_mode": {
    "name": "ipython",
    "version": 3
   },
   "file_extension": ".py",
   "mimetype": "text/x-python",
   "name": "python",
   "nbconvert_exporter": "python",
   "pygments_lexer": "ipython3",
   "version": "3.11.1"
  }
 },
 "nbformat": 4,
 "nbformat_minor": 2
}
