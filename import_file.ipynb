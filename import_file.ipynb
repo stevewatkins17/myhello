{
 "cells": [
  {
   "cell_type": "code",
   "execution_count": 1,
   "metadata": {},
   "outputs": [],
   "source": [
    "myfile = \"fruit.txt\"\n",
    "\n",
    "with open(myfile, \"r\") as f:\n",
    "    data = f.readlines()\n",
    "\n"
   ]
  },
  {
   "cell_type": "code",
   "execution_count": 2,
   "metadata": {},
   "outputs": [
    {
     "name": "stdout",
     "output_type": "stream",
     "text": [
      "0 apple\n",
      "\n",
      "1 orange\n",
      "\n",
      "2 peach\n",
      "\n",
      "3 grape\n",
      "\n",
      "4 plum \n",
      "\n",
      "5 pear\n"
     ]
    }
   ],
   "source": [
    "for line in data:\n",
    "    print(f\"{data.index(line)} \" + line) "
   ]
  }
 ],
 "metadata": {
  "kernelspec": {
   "display_name": "CodeYou",
   "language": "python",
   "name": "python3"
  },
  "language_info": {
   "codemirror_mode": {
    "name": "ipython",
    "version": 3
   },
   "file_extension": ".py",
   "mimetype": "text/x-python",
   "name": "python",
   "nbconvert_exporter": "python",
   "pygments_lexer": "ipython3",
   "version": "3.11.6"
  }
 },
 "nbformat": 4,
 "nbformat_minor": 2
}
